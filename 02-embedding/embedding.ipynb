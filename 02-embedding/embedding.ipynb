{
  "nbformat": 4,
  "nbformat_minor": 0,
  "metadata": {
    "colab": {
      "provenance": []
    },
    "kernelspec": {
      "name": "python3",
      "display_name": "Python 3"
    },
    "language_info": {
      "name": "python"
    }
  },
  "cells": [
    {
      "cell_type": "markdown",
      "source": [
        "### 1. Scarica il file di embedding e importa i package"
      ],
      "metadata": {
        "id": "Kf9W056QpWKd"
      }
    },
    {
      "cell_type": "code",
      "source": [
        "!wget https://www.dropbox.com/s/b3jbd1bgf93rkw6/glove.6B.50d.txt"
      ],
      "metadata": {
        "id": "nUmkn5VopYVu"
      },
      "execution_count": null,
      "outputs": []
    },
    {
      "cell_type": "code",
      "source": [
        "import  os\n",
        "import  numpy                    as np\n",
        "from    tensorflow.python.keras  import losses"
      ],
      "metadata": {
        "id": "9Typ-5NxpfP_"
      },
      "execution_count": null,
      "outputs": []
    },
    {
      "cell_type": "markdown",
      "source": [
        "### 2. Leggi il file di embedding"
      ],
      "metadata": {
        "id": "3Ml-xS_Jpgjl"
      }
    },
    {
      "cell_type": "code",
      "source": [
        "def read_glove( glove_file ):\n",
        "    embedding   = {}\n",
        "    \n",
        "    # legge il file GloVe riga per riga\n",
        "    with open( glove_file, 'r' ) as f:\n",
        "        cnt = 0\n",
        "        \n",
        "        for l in f:\n",
        "            # per ogni riga del file, estrae la parola e il vettore\n",
        "            word, vector        = l.split( maxsplit=1 )\n",
        "            vector              = np.matrix( vector ).A1 \n",
        "            # ...e li salva nel dizionario\n",
        "            embedding[ word ]   = vector\n",
        "            \n",
        "            # stampa un messaggio di conferma\n",
        "            cnt += 1\n",
        "            if not cnt % 10000:\n",
        "                print( f\"read {cnt:,} of 400,000 words\" )\n",
        "\n",
        "    print( \"Done!\" )\n",
        "    return embedding"
      ],
      "metadata": {
        "id": "iqSyvYDNpj4E"
      },
      "execution_count": null,
      "outputs": []
    },
    {
      "cell_type": "code",
      "source": [
        "glove_file  = \"glove.6B.50d.txt\"\n",
        "embedding   = read_glove( glove_file )"
      ],
      "metadata": {
        "id": "NqP8q_DypmpF"
      },
      "execution_count": null,
      "outputs": []
    },
    {
      "cell_type": "markdown",
      "source": [
        "### 3. Gioca con gli embedding"
      ],
      "metadata": {
        "id": "z_AoXAy1plw6"
      }
    },
    {
      "cell_type": "code",
      "source": [
        "def embed( word ):\n",
        "    if isinstance( word, str ):\n",
        "        # controlla se la parola è presente nel dizionario\n",
        "        if word not in embedding.keys():\n",
        "            return False\n",
        "        return embedding[ word ]\n",
        "    return word"
      ],
      "metadata": {
        "id": "MOTx2Ytupqv2"
      },
      "execution_count": null,
      "outputs": []
    },
    {
      "cell_type": "code",
      "source": [
        "print( embed( \"unicorn\" ) )"
      ],
      "metadata": {
        "id": "K0cNkbDyptlW"
      },
      "execution_count": null,
      "outputs": []
    },
    {
      "cell_type": "code",
      "source": [
        "def sim( word1, word2 ):\n",
        "    word1   = embed( word1 )\n",
        "    word2   = embed( word2 )\n",
        "    s       = losses.cosine_similarity( word1, word2 )\n",
        "    return s.numpy()"
      ],
      "metadata": {
        "id": "e5_iH4Phpu10"
      },
      "execution_count": null,
      "outputs": []
    },
    {
      "cell_type": "code",
      "source": [
        "sim( 'dog', 'wolf' )"
      ],
      "metadata": {
        "id": "7yj11qMBpwKM"
      },
      "execution_count": null,
      "outputs": []
    },
    {
      "cell_type": "code",
      "source": [
        "sim( 'dog', 'galaxy' )"
      ],
      "metadata": {
        "id": "DqQi1IZppwpx"
      },
      "execution_count": null,
      "outputs": []
    },
    {
      "cell_type": "markdown",
      "source": [
        "### 4. Trova le parole più simili"
      ],
      "metadata": {
        "id": "g8TwYvnNp0nK"
      }
    },
    {
      "cell_type": "code",
      "source": [
        "def closest( word, n_words=5, limit=50000 ):\n",
        "    word      = embed( word )\n",
        "    cnt       = 0\n",
        "    \n",
        "    # mantiene le parole con similarità migliore\n",
        "    best      = [ ( None, 1.0 ) ]\n",
        "    \n",
        "    # analizza tutto il dizionario\n",
        "    for w in embedding.keys():\n",
        "    \n",
        "        # per ogni parola, misura la similarità con quella in input\n",
        "        score       = sim( embedding[ w ], word )\n",
        "\n",
        "        # salta la parola se è identica a quella in input\n",
        "        if ( score + 1 ) < 0.05:\n",
        "            continue\n",
        "\n",
        "        # salva la parola se migliore di una di quelle salvate finora\n",
        "        for i, ( v, s ) in enumerate( best ):\n",
        "            if score < s:\n",
        "                best.insert( i, ( w, score ) )\n",
        "                del best[ n_words: ]\n",
        "                break\n",
        "\n",
        "        # visualizza il progresso della funzione\n",
        "        cnt += 1\n",
        "        if not cnt % 1000:\n",
        "            print( f\"checked {cnt:,} of {limit:,} words\" )\n",
        "        if cnt > limit:\n",
        "            print()\n",
        "            break\n",
        "\n",
        "    return best"
      ],
      "metadata": {
        "id": "i1JfWhCmp4Pb"
      },
      "execution_count": null,
      "outputs": []
    },
    {
      "cell_type": "code",
      "source": [
        "closest( 'queen', n_words=10, limit=20000 )"
      ],
      "metadata": {
        "id": "S_9cAwEAp6vI"
      },
      "execution_count": null,
      "outputs": []
    },
    {
      "cell_type": "markdown",
      "source": [
        "### 5. Somma le parole insieme"
      ],
      "metadata": {
        "id": "FAspy-E8p7rf"
      }
    },
    {
      "cell_type": "code",
      "source": [
        "# somma tra due parole\n",
        "def plus( word1, word2 ):\n",
        "    word1   = embed( word1 )\n",
        "    word2   = embed( word2 )\n",
        "    return word1 + word2\n",
        "\n",
        "# sottrazione tra due parole\n",
        "def minus( word1, word2 ):\n",
        "    word1   = embed( word1 )\n",
        "    word2   = embed( word2 )\n",
        "    return word1 - word2"
      ],
      "metadata": {
        "id": "4S56QUJ8p9wC"
      },
      "execution_count": null,
      "outputs": []
    },
    {
      "cell_type": "code",
      "source": [
        "w = minus( 'king', 'man' )\n",
        "w = plus( w, 'woman' )\n",
        "sim( w, 'queen' )"
      ],
      "metadata": {
        "id": "MoXSBix9p_YH"
      },
      "execution_count": null,
      "outputs": []
    },
    {
      "cell_type": "code",
      "source": [
        "w = minus( 'queen', 'throne' )\n",
        "w = plus( w, 'job' )\n",
        "closest( w, n_words=30, limit=30000 )"
      ],
      "metadata": {
        "id": "gU0mJ_NRqD26"
      },
      "execution_count": null,
      "outputs": []
    }
  ]
}
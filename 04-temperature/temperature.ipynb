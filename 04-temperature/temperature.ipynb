{
  "nbformat": 4,
  "nbformat_minor": 0,
  "metadata": {
    "colab": {
      "provenance": []
    },
    "kernelspec": {
      "name": "python3",
      "display_name": "Python 3"
    },
    "language_info": {
      "name": "python"
    }
  },
  "cells": [
    {
      "cell_type": "markdown",
      "source": [
        "### 1. Installa e importa i pacchetti necessari"
      ],
      "metadata": {
        "id": "QZfY8hIcnxFf"
      }
    },
    {
      "cell_type": "code",
      "source": [
        "!pip install transformers"
      ],
      "metadata": {
        "id": "E8W3gLtvnzTw"
      },
      "execution_count": null,
      "outputs": []
    },
    {
      "cell_type": "code",
      "source": [
        "import  os\n",
        "from    transformers       import pipeline\n",
        "from    nltk               import ngrams\n",
        "import  warnings\n",
        "warnings.filterwarnings( 'ignore' )"
      ],
      "metadata": {
        "id": "Z-6gHUwxn0pf"
      },
      "execution_count": null,
      "outputs": []
    },
    {
      "cell_type": "code",
      "source": [
        "from IPython.display  import HTML, display\n",
        "def set_css():\n",
        "    display( HTML( '''<style> pre { white-space: pre-wrap; } </style>''' ) )\n",
        "get_ipython().events.register( 'pre_run_cell', set_css )"
      ],
      "metadata": {
        "id": "mFriR-rbn19i"
      },
      "execution_count": null,
      "outputs": []
    },
    {
      "cell_type": "markdown",
      "source": [
        "### 2. Scarica il modello da Hugging Face"
      ],
      "metadata": {
        "id": "5y9a0pg2n3mf"
      }
    },
    {
      "cell_type": "code",
      "source": [
        "def get_model( model_name ):\n",
        "    return pipeline( \"text-generation\", model=model_name, device=-1 )\n",
        "\n",
        "model_name  = \"distilgpt2\"\n",
        "model       = get_model( model_name )"
      ],
      "metadata": {
        "id": "LUD3MKsTn5sV"
      },
      "execution_count": null,
      "outputs": []
    },
    {
      "cell_type": "markdown",
      "source": [
        "### 3. Imposta la completion del modello"
      ],
      "metadata": {
        "id": "KEfbBeTPn-5e"
      }
    },
    {
      "cell_type": "code",
      "source": [
        "def completion( model, prompt, temp ):\n",
        "    res     = model(\n",
        "        prompt,\n",
        "        min_length              = 100,\n",
        "        max_new_tokens          = 400,\n",
        "        num_return_sequences    = 3,\n",
        "        temperature             = temp\n",
        "    )\n",
        "    return [ t[ 'generated_text' ] for t in res ]"
      ],
      "metadata": {
        "id": "lg6j8AZVn7Ka"
      },
      "execution_count": null,
      "outputs": []
    },
    {
      "cell_type": "code",
      "source": [
        "def check_res( res, max_reps=None, min_len=100 ):\n",
        "    if len( res ) < min_len:\n",
        "        # completion too short\n",
        "        return False\n",
        "        \n",
        "    words       = res.split()\n",
        "    nw          = len( words )\n",
        "    if max_reps is None:\n",
        "        # a reasonable maximum number of repetitions\n",
        "        max_reps    = nw // 25\n",
        "\n",
        "    reps        = []\n",
        "    # check for 3-grams, 4-grams, and 5-grams\n",
        "    for n in range( 3, 6 ):\n",
        "        ng      = list( ngrams( words, n=n ) )\n",
        "        reps    += [ ng.count( w ) for w in ng ]\n",
        "        \n",
        "    if max( reps ) > max_reps:\n",
        "        # too many repetitions\n",
        "        return False\n",
        "    return True"
      ],
      "metadata": {
        "id": "EGPHu0NUoBvL"
      },
      "execution_count": null,
      "outputs": []
    },
    {
      "cell_type": "code",
      "source": [
        "def print_res( res, max_rep ):\n",
        "    for i, r in enumerate( res ):\n",
        "        print( '=' * 40 )\n",
        "        print( \"RESULT\", i+1 )\n",
        "        print( \"Too many repetitions?\", \"No\" if check_res( r, max_reps ) else \"Yes\" )\n",
        "        print( '=' * 40 )\n",
        "        print( '\\n' + r + '\\n\\n' )"
      ],
      "metadata": {
        "id": "EkJWuAeHoECV"
      },
      "execution_count": null,
      "outputs": []
    },
    {
      "cell_type": "markdown",
      "source": [
        "### 4. Testa il modello con diverse temperature"
      ],
      "metadata": {
        "id": "XagQ_fluoF5p"
      }
    },
    {
      "cell_type": "code",
      "source": [
        "prompt    = \"Once upon a time, in a land far far away, there was\"\n",
        "temp      = 0.8\n",
        "max_reps  = 10\n",
        "\n",
        "res       = completion( model, prompt, temp )\n",
        "print_res( res, max_reps )"
      ],
      "metadata": {
        "id": "NBLxlENYoHnw"
      },
      "execution_count": null,
      "outputs": []
    },
    {
      "cell_type": "code",
      "source": [
        "prompt    = \"They were locked together in the room. She knew one of them was the murderer. Therefore, she\"\n",
        "temp      = 1.2\n",
        "max_reps  = 10\n",
        "\n",
        "res       = completion( model, prompt, temp )\n",
        "print_res( res, max_reps )"
      ],
      "metadata": {
        "id": "JSHqyIY5oJSE"
      },
      "execution_count": null,
      "outputs": []
    }
  ]
}
